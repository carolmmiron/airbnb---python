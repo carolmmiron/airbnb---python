{
 "cells": [
  {
   "cell_type": "markdown",
   "id": "d021fcf5-12cc-4018-a6f3-e53195f0d2ae",
   "metadata": {},
   "source": [
    "# 6.6 Sourcing and Analizying Time-Series Data"
   ]
  },
  {
   "cell_type": "markdown",
   "id": "3c57963a-f629-4001-b817-5a7b8b421e2d",
   "metadata": {},
   "source": [
    "## This script contains the following:"
   ]
  },
  {
   "cell_type": "markdown",
   "id": "d5b0d748-0bc2-4d9e-b6ab-e6619cb96262",
   "metadata": {},
   "source": [
    "### 1. Importing libraries and Data"
   ]
  },
  {
   "cell_type": "markdown",
   "id": "84b6e68b-a28f-422f-a6f5-0ed7520b77fb",
   "metadata": {},
   "source": [
    "### 2. Subsetting, wrangling and cleaning time-series data"
   ]
  },
  {
   "cell_type": "markdown",
   "id": "a7a36afb-9417-4584-918d-6e5450d81a8b",
   "metadata": {},
   "source": [
    "### 3. Times Series analysis: decomposition"
   ]
  },
  {
   "cell_type": "markdown",
   "id": "594f7fa7-e9a2-4eca-a6fb-a9e200cb19f4",
   "metadata": {},
   "source": [
    "### 4. Testing for stationarity"
   ]
  },
  {
   "cell_type": "markdown",
   "id": "cd35d709-612f-46ae-84b4-6f3c478ece53",
   "metadata": {},
   "source": [
    "### 5. Stationaring the Airbnb Madrid´s Data"
   ]
  },
  {
   "cell_type": "markdown",
   "id": "9aca2d61-9f18-4ad3-96c9-7143648ea177",
   "metadata": {},
   "source": [
    "### 1. Importing libraries and Data"
   ]
  },
  {
   "cell_type": "code",
   "execution_count": 1,
   "id": "407935e1-1c6d-44b1-b275-87ca946fa33f",
   "metadata": {},
   "outputs": [],
   "source": [
    "# Importing libraries\n",
    "\n",
    "import pandas as pd\n",
    "import numpy as np\n",
    "import seaborn as sns\n",
    "import matplotlib\n",
    "import matplotlib.pyplot as plt\n",
    "import statsmodels.api as sm \n",
    "import os\n",
    "from datetime import datetime\n",
    "import warnings \n",
    "\n",
    "warnings.filterwarnings(\"ignore\") \n",
    "plt.style.use('fivethirtyeight')"
   ]
  },
  {
   "cell_type": "code",
   "execution_count": 2,
   "id": "6e192711-8b96-4795-9352-f48f89e6c522",
   "metadata": {},
   "outputs": [],
   "source": [
    "# Creating data path and importing data\n",
    "\n",
    "path=r'C:\\Users\\carol\\Documents'"
   ]
  },
  {
   "cell_type": "code",
   "execution_count": 3,
   "id": "f3a33bc2-a394-4671-b3ac-4e68c4c927a9",
   "metadata": {},
   "outputs": [],
   "source": [
    "df = pd.read_csv(os.path.join(path,'6.6 Sourcing and analysing time series data','df_listings_merged_6.6.csv'))"
   ]
  },
  {
   "cell_type": "code",
   "execution_count": 4,
   "id": "7239683f-ce2d-4226-9cd9-3c6d98cac366",
   "metadata": {},
   "outputs": [
    {
     "data": {
      "text/html": [
       "<div>\n",
       "<style scoped>\n",
       "    .dataframe tbody tr th:only-of-type {\n",
       "        vertical-align: middle;\n",
       "    }\n",
       "\n",
       "    .dataframe tbody tr th {\n",
       "        vertical-align: top;\n",
       "    }\n",
       "\n",
       "    .dataframe thead th {\n",
       "        text-align: right;\n",
       "    }\n",
       "</style>\n",
       "<table border=\"1\" class=\"dataframe\">\n",
       "  <thead>\n",
       "    <tr style=\"text-align: right;\">\n",
       "      <th></th>\n",
       "      <th>last_review_x</th>\n",
       "      <th>number_of_reviews_x</th>\n",
       "    </tr>\n",
       "  </thead>\n",
       "  <tbody>\n",
       "    <tr>\n",
       "      <th>0</th>\n",
       "      <td>29/05/2024</td>\n",
       "      <td>186</td>\n",
       "    </tr>\n",
       "    <tr>\n",
       "      <th>1</th>\n",
       "      <td>15/05/2024</td>\n",
       "      <td>30</td>\n",
       "    </tr>\n",
       "    <tr>\n",
       "      <th>2</th>\n",
       "      <td>NaN</td>\n",
       "      <td>0</td>\n",
       "    </tr>\n",
       "    <tr>\n",
       "      <th>3</th>\n",
       "      <td>NaN</td>\n",
       "      <td>0</td>\n",
       "    </tr>\n",
       "    <tr>\n",
       "      <th>4</th>\n",
       "      <td>NaN</td>\n",
       "      <td>0</td>\n",
       "    </tr>\n",
       "  </tbody>\n",
       "</table>\n",
       "</div>"
      ],
      "text/plain": [
       "  last_review_x  number_of_reviews_x\n",
       "0    29/05/2024                  186\n",
       "1    15/05/2024                   30\n",
       "2           NaN                    0\n",
       "3           NaN                    0\n",
       "4           NaN                    0"
      ]
     },
     "execution_count": 4,
     "metadata": {},
     "output_type": "execute_result"
    }
   ],
   "source": [
    "df.head(5)"
   ]
  },
  {
   "cell_type": "code",
   "execution_count": 5,
   "id": "1bc4fc2b-e768-4a36-8a5c-e81b4e4ca4f0",
   "metadata": {},
   "outputs": [
    {
     "data": {
      "text/plain": [
       "(11767, 2)"
      ]
     },
     "execution_count": 5,
     "metadata": {},
     "output_type": "execute_result"
    }
   ],
   "source": [
    "df.shape"
   ]
  },
  {
   "cell_type": "code",
   "execution_count": 6,
   "id": "94fa041d-0065-4593-8780-c4022eec14b9",
   "metadata": {},
   "outputs": [
    {
     "data": {
      "text/plain": [
       "Index(['last_review_x', 'number_of_reviews_x'], dtype='object')"
      ]
     },
     "execution_count": 6,
     "metadata": {},
     "output_type": "execute_result"
    }
   ],
   "source": [
    "df.columns"
   ]
  },
  {
   "cell_type": "code",
   "execution_count": 7,
   "id": "932b83d1-cfc1-4867-8b6f-6970a51cf1a4",
   "metadata": {},
   "outputs": [
    {
     "data": {
      "text/plain": [
       "last_review_x          1946\n",
       "number_of_reviews_x       0\n",
       "dtype: int64"
      ]
     },
     "execution_count": 7,
     "metadata": {},
     "output_type": "execute_result"
    }
   ],
   "source": [
    "# Check for missing values (you shouldn't have any)\n",
    "\n",
    "df.isnull().sum() "
   ]
  },
  {
   "cell_type": "code",
   "execution_count": 8,
   "id": "8e2e17aa-38c0-4efa-bc37-1d6631feaf44",
   "metadata": {},
   "outputs": [],
   "source": [
    "# Remove null values \n",
    "\n",
    "df2 = df.dropna()"
   ]
  },
  {
   "cell_type": "code",
   "execution_count": 9,
   "id": "0bae72ce-18ce-4400-a78b-f3030867c87e",
   "metadata": {
    "scrolled": true
   },
   "outputs": [
    {
     "data": {
      "text/plain": [
       "last_review_x          0\n",
       "number_of_reviews_x    0\n",
       "dtype: int64"
      ]
     },
     "execution_count": 9,
     "metadata": {},
     "output_type": "execute_result"
    }
   ],
   "source": [
    "#Checking data after removing NaN values\n",
    "\n",
    "df2.isnull().sum() "
   ]
  },
  {
   "cell_type": "code",
   "execution_count": 10,
   "id": "301270a1-c8b5-4eed-b8f9-49d29178401e",
   "metadata": {},
   "outputs": [
    {
     "data": {
      "text/html": [
       "<div>\n",
       "<style scoped>\n",
       "    .dataframe tbody tr th:only-of-type {\n",
       "        vertical-align: middle;\n",
       "    }\n",
       "\n",
       "    .dataframe tbody tr th {\n",
       "        vertical-align: top;\n",
       "    }\n",
       "\n",
       "    .dataframe thead th {\n",
       "        text-align: right;\n",
       "    }\n",
       "</style>\n",
       "<table border=\"1\" class=\"dataframe\">\n",
       "  <thead>\n",
       "    <tr style=\"text-align: right;\">\n",
       "      <th></th>\n",
       "      <th>last_review_x</th>\n",
       "      <th>number_of_reviews_x</th>\n",
       "    </tr>\n",
       "  </thead>\n",
       "  <tbody>\n",
       "    <tr>\n",
       "      <th>0</th>\n",
       "      <td>29/05/2024</td>\n",
       "      <td>186</td>\n",
       "    </tr>\n",
       "    <tr>\n",
       "      <th>1</th>\n",
       "      <td>15/05/2024</td>\n",
       "      <td>30</td>\n",
       "    </tr>\n",
       "    <tr>\n",
       "      <th>7</th>\n",
       "      <td>08/11/2014</td>\n",
       "      <td>11</td>\n",
       "    </tr>\n",
       "    <tr>\n",
       "      <th>8</th>\n",
       "      <td>02/02/2020</td>\n",
       "      <td>10</td>\n",
       "    </tr>\n",
       "    <tr>\n",
       "      <th>16</th>\n",
       "      <td>20/09/2018</td>\n",
       "      <td>1</td>\n",
       "    </tr>\n",
       "  </tbody>\n",
       "</table>\n",
       "</div>"
      ],
      "text/plain": [
       "   last_review_x  number_of_reviews_x\n",
       "0     29/05/2024                  186\n",
       "1     15/05/2024                   30\n",
       "7     08/11/2014                   11\n",
       "8     02/02/2020                   10\n",
       "16    20/09/2018                    1"
      ]
     },
     "execution_count": 10,
     "metadata": {},
     "output_type": "execute_result"
    }
   ],
   "source": [
    "df2.head(5)"
   ]
  },
  {
   "cell_type": "markdown",
   "id": "a428de97-0129-43c8-bea2-4149abd54766",
   "metadata": {},
   "source": [
    "### 2. Create a Subset"
   ]
  },
  {
   "cell_type": "code",
   "execution_count": 11,
   "id": "efb4afe5-43f5-4ffa-b5ec-6b5ba83b1927",
   "metadata": {},
   "outputs": [],
   "source": [
    "# Create a Subset with last review and number of reviews\n",
    "df2 = df2[['last_review_x', 'number_of_reviews_x']]  # Select relevant columns"
   ]
  },
  {
   "cell_type": "code",
   "execution_count": 12,
   "id": "2c387136-0907-423d-8407-143ad799feef",
   "metadata": {},
   "outputs": [
    {
     "data": {
      "text/html": [
       "<div>\n",
       "<style scoped>\n",
       "    .dataframe tbody tr th:only-of-type {\n",
       "        vertical-align: middle;\n",
       "    }\n",
       "\n",
       "    .dataframe tbody tr th {\n",
       "        vertical-align: top;\n",
       "    }\n",
       "\n",
       "    .dataframe thead th {\n",
       "        text-align: right;\n",
       "    }\n",
       "</style>\n",
       "<table border=\"1\" class=\"dataframe\">\n",
       "  <thead>\n",
       "    <tr style=\"text-align: right;\">\n",
       "      <th></th>\n",
       "      <th>last_review_x</th>\n",
       "      <th>number_of_reviews_x</th>\n",
       "    </tr>\n",
       "  </thead>\n",
       "  <tbody>\n",
       "    <tr>\n",
       "      <th>0</th>\n",
       "      <td>29/05/2024</td>\n",
       "      <td>186</td>\n",
       "    </tr>\n",
       "    <tr>\n",
       "      <th>1</th>\n",
       "      <td>15/05/2024</td>\n",
       "      <td>30</td>\n",
       "    </tr>\n",
       "    <tr>\n",
       "      <th>7</th>\n",
       "      <td>08/11/2014</td>\n",
       "      <td>11</td>\n",
       "    </tr>\n",
       "    <tr>\n",
       "      <th>8</th>\n",
       "      <td>02/02/2020</td>\n",
       "      <td>10</td>\n",
       "    </tr>\n",
       "    <tr>\n",
       "      <th>16</th>\n",
       "      <td>20/09/2018</td>\n",
       "      <td>1</td>\n",
       "    </tr>\n",
       "  </tbody>\n",
       "</table>\n",
       "</div>"
      ],
      "text/plain": [
       "   last_review_x  number_of_reviews_x\n",
       "0     29/05/2024                  186\n",
       "1     15/05/2024                   30\n",
       "7     08/11/2014                   11\n",
       "8     02/02/2020                   10\n",
       "16    20/09/2018                    1"
      ]
     },
     "execution_count": 12,
     "metadata": {},
     "output_type": "execute_result"
    }
   ],
   "source": [
    "df2.head(5)"
   ]
  },
  {
   "cell_type": "markdown",
   "id": "de620f64-89da-432d-a5b1-e9a6956baf53",
   "metadata": {},
   "source": [
    "**Note** df2 is a serie and we need to turn it into a DF having date as a index"
   ]
  },
  {
   "cell_type": "code",
   "execution_count": 13,
   "id": "6a3421b6-95a5-4517-9cdd-b31a4f19f40c",
   "metadata": {},
   "outputs": [
    {
     "data": {
      "text/html": [
       "<div>\n",
       "<style scoped>\n",
       "    .dataframe tbody tr th:only-of-type {\n",
       "        vertical-align: middle;\n",
       "    }\n",
       "\n",
       "    .dataframe tbody tr th {\n",
       "        vertical-align: top;\n",
       "    }\n",
       "\n",
       "    .dataframe thead th {\n",
       "        text-align: right;\n",
       "    }\n",
       "</style>\n",
       "<table border=\"1\" class=\"dataframe\">\n",
       "  <thead>\n",
       "    <tr style=\"text-align: right;\">\n",
       "      <th></th>\n",
       "      <th>index</th>\n",
       "      <th>last_review_x</th>\n",
       "      <th>number_of_reviews_x</th>\n",
       "    </tr>\n",
       "  </thead>\n",
       "  <tbody>\n",
       "    <tr>\n",
       "      <th>0</th>\n",
       "      <td>0</td>\n",
       "      <td>29/05/2024</td>\n",
       "      <td>186</td>\n",
       "    </tr>\n",
       "    <tr>\n",
       "      <th>1</th>\n",
       "      <td>1</td>\n",
       "      <td>15/05/2024</td>\n",
       "      <td>30</td>\n",
       "    </tr>\n",
       "    <tr>\n",
       "      <th>2</th>\n",
       "      <td>7</td>\n",
       "      <td>08/11/2014</td>\n",
       "      <td>11</td>\n",
       "    </tr>\n",
       "    <tr>\n",
       "      <th>3</th>\n",
       "      <td>8</td>\n",
       "      <td>02/02/2020</td>\n",
       "      <td>10</td>\n",
       "    </tr>\n",
       "    <tr>\n",
       "      <th>4</th>\n",
       "      <td>16</td>\n",
       "      <td>20/09/2018</td>\n",
       "      <td>1</td>\n",
       "    </tr>\n",
       "  </tbody>\n",
       "</table>\n",
       "</div>"
      ],
      "text/plain": [
       "   index last_review_x  number_of_reviews_x\n",
       "0      0    29/05/2024                  186\n",
       "1      1    15/05/2024                   30\n",
       "2      7    08/11/2014                   11\n",
       "3      8    02/02/2020                   10\n",
       "4     16    20/09/2018                    1"
      ]
     },
     "execution_count": 13,
     "metadata": {},
     "output_type": "execute_result"
    }
   ],
   "source": [
    "# Turn df_sub into data frame\n",
    "\n",
    "df2 = df2.reset_index()\n",
    "df2.head(5)"
   ]
  },
  {
   "cell_type": "code",
   "execution_count": 14,
   "id": "b379ee08-c181-4b8e-81b2-46452a239c4e",
   "metadata": {},
   "outputs": [
    {
     "data": {
      "text/html": [
       "<div>\n",
       "<style scoped>\n",
       "    .dataframe tbody tr th:only-of-type {\n",
       "        vertical-align: middle;\n",
       "    }\n",
       "\n",
       "    .dataframe tbody tr th {\n",
       "        vertical-align: top;\n",
       "    }\n",
       "\n",
       "    .dataframe thead th {\n",
       "        text-align: right;\n",
       "    }\n",
       "</style>\n",
       "<table border=\"1\" class=\"dataframe\">\n",
       "  <thead>\n",
       "    <tr style=\"text-align: right;\">\n",
       "      <th></th>\n",
       "      <th>index</th>\n",
       "      <th>number_of_reviews_x</th>\n",
       "    </tr>\n",
       "    <tr>\n",
       "      <th>datetime</th>\n",
       "      <th></th>\n",
       "      <th></th>\n",
       "    </tr>\n",
       "  </thead>\n",
       "  <tbody>\n",
       "    <tr>\n",
       "      <th>2024-05-29</th>\n",
       "      <td>0</td>\n",
       "      <td>186</td>\n",
       "    </tr>\n",
       "    <tr>\n",
       "      <th>2024-05-15</th>\n",
       "      <td>1</td>\n",
       "      <td>30</td>\n",
       "    </tr>\n",
       "    <tr>\n",
       "      <th>2014-11-08</th>\n",
       "      <td>7</td>\n",
       "      <td>11</td>\n",
       "    </tr>\n",
       "    <tr>\n",
       "      <th>2020-02-02</th>\n",
       "      <td>8</td>\n",
       "      <td>10</td>\n",
       "    </tr>\n",
       "    <tr>\n",
       "      <th>2018-09-20</th>\n",
       "      <td>16</td>\n",
       "      <td>1</td>\n",
       "    </tr>\n",
       "  </tbody>\n",
       "</table>\n",
       "</div>"
      ],
      "text/plain": [
       "            index  number_of_reviews_x\n",
       "datetime                              \n",
       "2024-05-29      0                  186\n",
       "2024-05-15      1                   30\n",
       "2014-11-08      7                   11\n",
       "2020-02-02      8                   10\n",
       "2018-09-20     16                    1"
      ]
     },
     "execution_count": 14,
     "metadata": {},
     "output_type": "execute_result"
    }
   ],
   "source": [
    "# setthe \n",
    "\n",
    "df2['datetime'] = pd.to_datetime(df2['last_review_x'], dayfirst=True, errors='coerce') # Convert 'last_review_x' to datetime format, with day first\n",
    "df2 = df2.set_index('datetime') # Set the datetime as the index of the dataframe.\n",
    "df2.drop(['last_review_x'], axis=1, inplace=True) # Drop the \"last_review_x\" column.\n",
    "df2.head()"
   ]
  },
  {
   "cell_type": "code",
   "execution_count": 17,
   "id": "6d88a9d6-6059-45f6-a55a-4940df80d630",
   "metadata": {},
   "outputs": [
    {
     "data": {
      "image/png": "[encoded data removed]",
      "text/plain": [
       "<Figure size 1500x500 with 1 Axes>"
      ]
     },
     "metadata": {},
     "output_type": "display_data"
    }
   ],
   "source": [
    "# Resample the data by month and calculate the average number of reviews per month\n",
    "df_monthly = df2['number_of_reviews_x'].resample('M').sum()\n",
    "\n",
    "# Plot the data\n",
    "plt.figure(figsize=(15, 5), dpi=100)\n",
    "plt.plot(df_monthly)\n",
    "plt.title(\"Monthly Total Reviews Over Time\")\n",
    "plt.xlabel(\"Date\")\n",
    "plt.ylabel(\"Total Number of Reviews\")\n",
    "plt.grid(True)  # Optional: Add grid for better readability\n",
    "plt.show()"
   ]
  },
  {
   "cell_type": "code",
   "execution_count": 26,
   "id": "d80b16cd-bf13-4333-9164-70a5cd1103f2",
   "metadata": {},
   "outputs": [
    {
     "data": {
      "image/png": "[encoded data removed]",
      "text/plain": [
       "<Figure size 1500x500 with 1 Axes>"
      ]
     },
     "metadata": {},
     "output_type": "display_data"
    }
   ],
   "source": [
    "# Resample the data by month and calculate the average number of reviews per month\n",
    "df_monthly = df2['number_of_reviews_x'].resample('M').mean()\n",
    "# Ensure the index has a monthly frequency\n",
    "df_monthly = df_monthly.asfreq('M')\n",
    "\n",
    "# Plot the data\n",
    "plt.figure(figsize=(15, 5), dpi=100)\n",
    "plt.plot(df_monthly)\n",
    "plt.title(\"Monthly Total Reviews Over Time\")\n",
    "plt.xlabel(\"Date\")\n",
    "plt.ylabel(\"Total Number of Reviews\")\n",
    "plt.grid(True)  # Optional: Add grid for better readability\n",
    "plt.show()"
   ]
  },
  {
   "cell_type": "markdown",
   "id": "afe01f2a-b762-48fc-928f-bf46247e1c9a",
   "metadata": {},
   "source": [
    "**Note** This chart shows that there has been a significant recent increase in review activity, possibly indicating a rise in business listings, customer engagement, or other relevant market factors."
   ]
  },
  {
   "cell_type": "markdown",
   "id": "647b1052-a326-4308-8fb9-ed0fd86c097f",
   "metadata": {},
   "source": [
    "### 3. time-series: decomposition"
   ]
  },
  {
   "cell_type": "code",
   "execution_count": 27,
   "id": "e6879f82-d986-4e7a-8c1d-cd7f02406b3f",
   "metadata": {},
   "outputs": [
    {
     "data": {
      "text/plain": [
       "20"
      ]
     },
     "execution_count": 27,
     "metadata": {},
     "output_type": "execute_result"
    }
   ],
   "source": [
    "df_monthly.isnull().sum()"
   ]
  },
  {
   "cell_type": "code",
   "execution_count": 28,
   "id": "14626d41-7b22-40d3-92d1-20d391f2e4f8",
   "metadata": {},
   "outputs": [],
   "source": [
    "# Remove null values \n",
    "\n",
    "df_monthly = df_monthly.dropna()"
   ]
  },
  {
   "cell_type": "code",
   "execution_count": 29,
   "id": "2a3ab808-eab2-4fca-8678-493e0c304081",
   "metadata": {},
   "outputs": [
    {
     "data": {
      "text/plain": [
       "0"
      ]
     },
     "execution_count": 29,
     "metadata": {},
     "output_type": "execute_result"
    }
   ],
   "source": [
    "df_monthly.isnull().sum()"
   ]
  },
  {
   "cell_type": "code",
   "execution_count": 32,
   "id": "2a1c21fc-7df9-4b8e-a3f9-c92d74ee06c9",
   "metadata": {},
   "outputs": [
    {
     "ename": "ValueError",
     "evalue": "You must specify a period or x must be a pandas object with a PeriodIndex or a DatetimeIndex with a freq not set to None",
     "output_type": "error",
     "traceback": [
      "\u001b[1;31m---------------------------------------------------------------------------\u001b[0m",
      "\u001b[1;31mValueError\u001b[0m                                Traceback (most recent call last)",
      "Cell \u001b[1;32mIn[32], line 3\u001b[0m\n\u001b[0;32m      1\u001b[0m \u001b[38;5;66;03m# Decompose the time series using an additive model\u001b[39;00m\n\u001b[1;32m----> 3\u001b[0m decomposition \u001b[38;5;241m=\u001b[39m sm\u001b[38;5;241m.\u001b[39mtsa\u001b[38;5;241m.\u001b[39mseasonal_decompose(df_monthly, model\u001b[38;5;241m=\u001b[39m\u001b[38;5;124m'\u001b[39m\u001b[38;5;124mmultiplicative\u001b[39m\u001b[38;5;124m'\u001b[39m)\n\u001b[0;32m      4\u001b[0m \u001b[38;5;66;03m# Plot the decomposition components (trend, seasonal, residual)\u001b[39;00m\n\u001b[0;32m      5\u001b[0m decomposition\u001b[38;5;241m.\u001b[39mplot()\n",
      "File \u001b[1;32m~\\anaconda3\\Lib\\site-packages\\statsmodels\\tsa\\seasonal.py:166\u001b[0m, in \u001b[0;36mseasonal_decompose\u001b[1;34m(x, model, filt, period, two_sided, extrapolate_trend)\u001b[0m\n\u001b[0;32m    164\u001b[0m         period \u001b[38;5;241m=\u001b[39m pfreq\n\u001b[0;32m    165\u001b[0m     \u001b[38;5;28;01melse\u001b[39;00m:\n\u001b[1;32m--> 166\u001b[0m         \u001b[38;5;28;01mraise\u001b[39;00m \u001b[38;5;167;01mValueError\u001b[39;00m(\n\u001b[0;32m    167\u001b[0m             \u001b[38;5;124m\"\u001b[39m\u001b[38;5;124mYou must specify a period or x must be a pandas object with \u001b[39m\u001b[38;5;124m\"\u001b[39m\n\u001b[0;32m    168\u001b[0m             \u001b[38;5;124m\"\u001b[39m\u001b[38;5;124ma PeriodIndex or a DatetimeIndex with a freq not set to None\u001b[39m\u001b[38;5;124m\"\u001b[39m\n\u001b[0;32m    169\u001b[0m         )\n\u001b[0;32m    170\u001b[0m \u001b[38;5;28;01mif\u001b[39;00m x\u001b[38;5;241m.\u001b[39mshape[\u001b[38;5;241m0\u001b[39m] \u001b[38;5;241m<\u001b[39m \u001b[38;5;241m2\u001b[39m \u001b[38;5;241m*\u001b[39m pfreq:\n\u001b[0;32m    171\u001b[0m     \u001b[38;5;28;01mraise\u001b[39;00m \u001b[38;5;167;01mValueError\u001b[39;00m(\n\u001b[0;32m    172\u001b[0m         \u001b[38;5;124mf\u001b[39m\u001b[38;5;124m\"\u001b[39m\u001b[38;5;124mx must have 2 complete cycles requires \u001b[39m\u001b[38;5;132;01m{\u001b[39;00m\u001b[38;5;241m2\u001b[39m\u001b[38;5;250m \u001b[39m\u001b[38;5;241m*\u001b[39m\u001b[38;5;250m \u001b[39mpfreq\u001b[38;5;132;01m}\u001b[39;00m\u001b[38;5;124m \u001b[39m\u001b[38;5;124m\"\u001b[39m\n\u001b[0;32m    173\u001b[0m         \u001b[38;5;124mf\u001b[39m\u001b[38;5;124m\"\u001b[39m\u001b[38;5;124mobservations. x only has \u001b[39m\u001b[38;5;132;01m{\u001b[39;00mx\u001b[38;5;241m.\u001b[39mshape[\u001b[38;5;241m0\u001b[39m]\u001b[38;5;132;01m}\u001b[39;00m\u001b[38;5;124m observation(s)\u001b[39m\u001b[38;5;124m\"\u001b[39m\n\u001b[0;32m    174\u001b[0m     )\n",
      "\u001b[1;31mValueError\u001b[0m: You must specify a period or x must be a pandas object with a PeriodIndex or a DatetimeIndex with a freq not set to None"
     ]
    }
   ],
   "source": [
    "# Decompose the time series using an additive model\n",
    "\n",
    "decomposition = sm.tsa.seasonal_decompose(df_monthly, model='adi')\n",
    "\n",
    "\n",
    "# Plot the decomposition components (trend, seasonal, residual)\n",
    "decomposition.plot()\n",
    "plt.show()"
   ]
  },
  {
   "cell_type": "code",
   "execution_count": null,
   "id": "c6394983-512e-4d57-8734-eb5cc673bc58",
   "metadata": {},
   "outputs": [],
   "source": []
  },
  {
   "cell_type": "code",
   "execution_count": null,
   "id": "3c4a9cdc-4328-48e8-9aea-019f53026e47",
   "metadata": {},
   "outputs": [],
   "source": []
  },
  {
   "cell_type": "code",
   "execution_count": null,
   "id": "661080de-3a32-4b5a-9e63-fc85a725b884",
   "metadata": {},
   "outputs": [],
   "source": []
  },
  {
   "cell_type": "code",
   "execution_count": null,
   "id": "604cf174-d2db-43ef-a475-23ea50e846ff",
   "metadata": {},
   "outputs": [],
   "source": []
  },
  {
   "cell_type": "code",
   "execution_count": null,
   "id": "3fa7f3f3-501f-405f-9db5-d58199c523fa",
   "metadata": {},
   "outputs": [],
   "source": []
  },
  {
   "cell_type": "code",
   "execution_count": null,
   "id": "f8ff42b9-5e74-49bd-9f52-e53cc76da0b5",
   "metadata": {},
   "outputs": [],
   "source": []
  }
 ],
 "metadata": {
  "kernelspec": {
   "display_name": "Python 3 (ipykernel)",
   "language": "python",
   "name": "python3"
  },
  "language_info": {
   "codemirror_mode": {
    "name": "ipython",
    "version": 3
   },
   "file_extension": ".py",
   "mimetype": "text/x-python",
   "name": "python",
   "nbconvert_exporter": "python",
   "pygments_lexer": "ipython3",
   "version": "3.11.7"
  }
 },
 "nbformat": 4,
 "nbformat_minor": 5
}
